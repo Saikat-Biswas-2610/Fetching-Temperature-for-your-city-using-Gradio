{
 "cells": [
  {
   "cell_type": "markdown",
   "id": "ba49c0b5",
   "metadata": {},
   "source": [
    "# Fetching-Temperature-for-your-city-using-Gradio"
   ]
  },
  {
   "cell_type": "code",
   "execution_count": null,
   "id": "f737aa98",
   "metadata": {},
   "outputs": [],
   "source": [
    "import requests\n",
    "import json\n",
    "import gradio as gr\n",
    "\n",
    "def greet(your_city):\n",
    "    api_key = \"1659cf5477bd0a121c844691d4bd9e81\"\n",
    "    city = your_city\n",
    "    url = 'https://api.openweathermap.org/data/2.5/weather?q=%s&appid=%s&units=metric'% (city, api_key)\n",
    "    response = requests.get(url)\n",
    "    data = json.loads(response.text)\n",
    "    if len(data)<3:\n",
    "        c = 12345\n",
    "    else:\n",
    "        c = int(data['main']['temp'])\n",
    "    f = '%.2f'%((c*1.8)+32)\n",
    "    if c == 12345:\n",
    "        return 'Learn to spell your city name'\n",
    "    else:\n",
    "        return \"The temperature in \"+your_city+' is '+str(c)+'C'+' or '+str(f)+'F' + \"!\"\n",
    "\n",
    "\n",
    "demo = gr.Interface(fn=greet, inputs=\"text\", outputs=\"text\")\n",
    "    \n",
    "if __name__ == \"__main__\":\n",
    "    demo.launch(share = True)"
   ]
  }
 ],
 "metadata": {
  "kernelspec": {
   "display_name": "Python 3 (ipykernel)",
   "language": "python",
   "name": "python3"
  },
  "language_info": {
   "codemirror_mode": {
    "name": "ipython",
    "version": 3
   },
   "file_extension": ".py",
   "mimetype": "text/x-python",
   "name": "python",
   "nbconvert_exporter": "python",
   "pygments_lexer": "ipython3",
   "version": "3.9.13"
  }
 },
 "nbformat": 4,
 "nbformat_minor": 5
}
